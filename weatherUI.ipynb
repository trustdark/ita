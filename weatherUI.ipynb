{
 "cells": [
  {
   "cell_type": "code",
   "execution_count": 98,
   "metadata": {},
   "outputs": [
    {
     "data": {
      "application/vnd.jupyter.widget-view+json": {
       "model_id": "f3f8e1db27454ba6ac0a71469d11eec6",
       "version_major": 2,
       "version_minor": 0
      },
      "text/plain": [
       "Button(description='Draw graph', style=ButtonStyle())"
      ]
     },
     "metadata": {},
     "output_type": "display_data"
    },
    {
     "data": {
      "application/vnd.jupyter.widget-view+json": {
       "model_id": "a9781d95b317499cbb0e89a8fb4bb29c",
       "version_major": 2,
       "version_minor": 0
      },
      "text/plain": [
       "Dropdown(description='Cities:', options=('Kyiv', 'Odessa', 'Lviv', 'Kharkiv', 'Dnipro', 'Ivano-Frankivsk', 'Ch…"
      ]
     },
     "metadata": {},
     "output_type": "display_data"
    },
    {
     "data": {
      "application/vnd.jupyter.widget-view+json": {
       "model_id": "eb639c9cc4024ca7a260c3996f9aced9",
       "version_major": 2,
       "version_minor": 0
      },
      "text/plain": [
       "Dropdown(description='Data:', index=1, options=('Wind speed, m/s', 'Temperature, Celsius', 'Humidity, %', 'Clo…"
      ]
     },
     "metadata": {},
     "output_type": "display_data"
    },
    {
     "data": {
      "application/vnd.jupyter.widget-view+json": {
       "model_id": "af077c9717e64f618bdfcfc9209d0ca1",
       "version_major": 2,
       "version_minor": 0
      },
      "text/plain": [
       "Text(value='2019-03-10 22:58:54', description='Date from:', placeholder='Type here')"
      ]
     },
     "metadata": {},
     "output_type": "display_data"
    },
    {
     "data": {
      "application/vnd.jupyter.widget-view+json": {
       "model_id": "803011c02553415eaae354e2f538cf72",
       "version_major": 2,
       "version_minor": 0
      },
      "text/plain": [
       "Text(value='2019-04-08 22:58:54', description='Date to:', placeholder='Type here')"
      ]
     },
     "metadata": {},
     "output_type": "display_data"
    },
    {
     "data": {
      "application/vnd.jupyter.widget-view+json": {
       "model_id": "04669cf805e34a528f888f4e351d4bfd",
       "version_major": 2,
       "version_minor": 0
      },
      "text/plain": [
       "Dropdown(description='Visualization', options=('Bars', 'Plot'), value='Bars')"
      ]
     },
     "metadata": {},
     "output_type": "display_data"
    },
    {
     "data": {
      "image/png": "[encoded data removed]",
      "text/plain": [
       "<Figure size 1296x432 with 1 Axes>"
      ]
     },
     "metadata": {
      "needs_background": "light"
     },
     "output_type": "display_data"
    }
   ],
   "source": [
    "import requests\n",
    "import json\n",
    "import ipywidgets as widgets\n",
    "import pandas as pd\n",
    "import numpy as np\n",
    "import matplotlib.pyplot as plt\n",
    "import ipywidgets as widgets\n",
    "import re\n",
    "from datetime import datetime\n",
    "from pandas.plotting import register_matplotlib_converters\n",
    "\n",
    "register_matplotlib_converters()\n",
    "\n",
    "from IPython.display import clear_output\n",
    "\n",
    "\n",
    "def cities(msg):\n",
    "    citylist = {\"Kyiv\": 709930,\n",
    "                \"Odessa\": 698740,\n",
    "                \"Lviv\": 702550,\n",
    "                \"Kharkiv\": 706483,\n",
    "                \"Dnipro\": 709930,\n",
    "                \"Ivano-Frankivsk\": 707471,\n",
    "                \"Chernivtsi\": 710719,\n",
    "                \"Vinnytsia\": 689558,\n",
    "                \"Kriviy Rih\": 703845,\n",
    "                \"Uzhhorod\": 690548\n",
    "                }\n",
    "    return citylist[msg]\n",
    "\n",
    "\n",
    "def avaibledata(msg):\n",
    "    datalist = {\"Wind speed, m/s\": 'wind.speed',\n",
    "                \"Temperature, Celsius\": 'main.temp',\n",
    "                \"Humidity, %\": 'main.humidity',\n",
    "                \"Clouds, %\": 'clouds.all',\n",
    "                \"Pressure, mmHg\": \"main.pressure\"\n",
    "                }\n",
    "    return datalist[msg]\n",
    "# code which refers to vizualization\n",
    "def graph(msg, x_time, y_value, y_label):\n",
    "    fig, ax = plt.subplots(figsize=(18, 6))\n",
    "    plt.grid(True)\n",
    "    #Changes for a better vizualisation\n",
    "    bottom_y = min(y_value)\n",
    "    top_y = max(y_value)\n",
    "    k = abs(top_y/bottom_y)/10\n",
    "    if top_y > 700: k = -10\n",
    "    #print(\"k=\", k)\n",
    "    \n",
    "    if bottom_y <= 0:\n",
    "        bottom_y = bottom_y*1.02 - k\n",
    "    else:\n",
    "        bottom_y = bottom_y/1.02 - k\n",
    "        \n",
    "    if top_y <= 0:\n",
    "        top_y = top_y/1.02 + k\n",
    "    else:\n",
    "        top_y = top_y*1.02 + k\n",
    "    \n",
    "    ax.set_ylim(bottom=bottom_y, top=top_y)\n",
    "    \n",
    "    if msg==\"Plot\":\n",
    "        ax.plot(x_time, y_value)\n",
    "    else:\n",
    "        ax.bar(x_time, y_value, width=0.01)\n",
    "        \n",
    "    plt.xlabel('Date, time')\n",
    "    plt.ylabel(y_label)\n",
    "    plt.title(msg)\n",
    "    return\n",
    "\n",
    "%matplotlib inline\n",
    "\n",
    "button = widgets.Button(description=\"Draw graph\")\n",
    "display(button)\n",
    "out = widgets.Output()\n",
    "city = widgets.Dropdown(\n",
    "    options=[\"Kyiv\", \"Odessa\", \"Lviv\", \"Kharkiv\", \"Dnipro\", \"Ivano-Frankivsk\", \"Chernivtsi\",\n",
    "             \"Vinnytsia\", \"Kriviy Rih\", \"Uzhhorod\"],\n",
    "    value=\"Kyiv\",\n",
    "    description='Cities:',\n",
    "    disabled=False,\n",
    ")\n",
    "\n",
    "type_data = widgets.Dropdown(\n",
    "    options=[\"Wind speed, m/s\", \"Temperature, Celsius\", \"Humidity, %\", \"Clouds, %\", \"Pressure, mmHg\"],\n",
    "    value='Temperature, Celsius',\n",
    "    description='Data:',\n",
    "    disabled=False,\n",
    ")\n",
    "\n",
    "date_from = widgets.Text(\n",
    "    value='2019-03-10 22:58:54',\n",
    "    placeholder='Type here',\n",
    "    description='Date from:',\n",
    "    disabled=False\n",
    ")\n",
    "\n",
    "date_to = widgets.Text(\n",
    "    value='2019-04-08 22:58:54',\n",
    "    placeholder='Type here',\n",
    "    description='Date to:',\n",
    "    disabled=False\n",
    ")\n",
    "\n",
    "type_graph = widgets.Dropdown(\n",
    "    options=[\"Bars\", \"Plot\"],\n",
    "    value='Bars',\n",
    "    description='Visualization',\n",
    "    disabled=False,\n",
    ")\n",
    "display(city, type_data, date_from, date_to, type_graph)\n",
    "\n",
    "\n",
    "def click_button(b):\n",
    "    city_id = cities(city.value)\n",
    "    arg = {\"req\": 1,\n",
    "           \"id\": city_id,\n",
    "           \"data\": avaibledata(type_data.value),\n",
    "           \"time_min\": date_from.value,\n",
    "           \"time_max\": date_to.value}\n",
    "    r = requests.post('https://europe-west1-alpine-canto-236712.cloudfunctions.net/get-from-db', data=json.dumps(arg))\n",
    "\n",
    "    tempdate = r.json()[0]#array which consist of time values\n",
    "    x_time = []\n",
    "    for i in tempdate:\n",
    "        x_time.append(datetime.fromtimestamp(i))\n",
    "    y_value = r.json()[1]#array which consist of data values\n",
    "    y_label = str(type_data.value)\n",
    "    if y_label == \"Temperature, Celsius\":\n",
    "        for i in range(len(y_value)):\n",
    "            y_value[i] -= 273\n",
    "    if y_label == \"Pressure, mmHg\":\n",
    "        for i in range(len(y_value)):\n",
    "            y_value[i] = y_value[i] * 100 / 133.32\n",
    "    \n",
    "    graph(str(type_graph.value), x_time, y_value, y_label)\n",
    "\n",
    "button.on_click(click_button)\n",
    "\n",
    "# clear_output()"
   ]
  },
  {
   "cell_type": "code",
   "execution_count": null,
   "metadata": {},
   "outputs": [],
   "source": []
  }
 ],
 "metadata": {
  "kernelspec": {
   "display_name": "Python 3",
   "language": "python",
   "name": "python3"
  },
  "language_info": {
   "codemirror_mode": {
    "name": "ipython",
    "version": 3
   },
   "file_extension": ".py",
   "mimetype": "text/x-python",
   "name": "python",
   "nbconvert_exporter": "python",
   "pygments_lexer": "ipython3",
   "version": "3.7.1"
  }
 },
 "nbformat": 4,
 "nbformat_minor": 2
}
